{
 "cells": [
  {
   "cell_type": "markdown",
   "metadata": {},
   "source": [
    "# Production facility 02 - Production Demand Patterns\n",
    "*This notebook illustrates methods to explore the demand patterns of a set of parts.*\n",
    "***\n",
    "Alessandro Tufano, Ph.D. 2021"
   ]
  },
  {
   "cell_type": "markdown",
   "metadata": {},
   "source": [
    "### Import packages"
   ]
  },
  {
   "cell_type": "code",
   "execution_count": 1,
   "metadata": {},
   "outputs": [],
   "source": [
    "# %% append functions path\n",
    "import sys; sys.path.insert(0, '..') #add the above level with the package\n",
    "import os\n",
    "\n",
    "import pandas as pd\n",
    "import numpy as np\n",
    "\n",
    "from IPython.display import display, HTML #display dataframe\n"
   ]
  },
  {
   "cell_type": "markdown",
   "metadata": {},
   "source": [
    "### Set data fields"
   ]
  },
  {
   "cell_type": "code",
   "execution_count": 2,
   "metadata": {},
   "outputs": [],
   "source": [
    "string_casestudy = 'TOY_DATA'"
   ]
  },
  {
   "cell_type": "markdown",
   "metadata": {},
   "source": [
    "### Import data"
   ]
  },
  {
   "cell_type": "code",
   "execution_count": 3,
   "metadata": {},
   "outputs": [],
   "source": [
    "# %% import data\n",
    "from analogistics.data.data_generator_distribution import generateDistributionData\n",
    "\n",
    "#random generation of distribution data\n",
    "_, _, _, D_mov = generateDistributionData(num_movements=2500, num_parts = 100)\n"
   ]
  },
  {
   "cell_type": "code",
   "execution_count": 4,
   "metadata": {},
   "outputs": [
    {
     "data": {
      "text/html": [
       "<table border=\"1\" class=\"dataframe\">\n",
       "  <thead>\n",
       "    <tr style=\"text-align: right;\">\n",
       "      <th></th>\n",
       "      <th>LOADING_NODE</th>\n",
       "      <th>LOADING_NODE_DESCRIPTION</th>\n",
       "      <th>LOADING_NODE_LATITUDE</th>\n",
       "      <th>LOADING_NODE_LONGITUDE</th>\n",
       "      <th>PTA_FROM</th>\n",
       "      <th>PTD_FROM</th>\n",
       "      <th>ATA_FROM</th>\n",
       "      <th>ATD_FROM</th>\n",
       "      <th>DISCHARGING_NODE</th>\n",
       "      <th>DISCHARGING_NODE_DESCRIPTION</th>\n",
       "      <th>DISCHARGING_LATITUDE</th>\n",
       "      <th>DISCHARGING_LONGITUDE</th>\n",
       "      <th>PTA_TO</th>\n",
       "      <th>PTD_TO</th>\n",
       "      <th>ATA_TO</th>\n",
       "      <th>ATD_TO</th>\n",
       "      <th>ITEMCODE</th>\n",
       "      <th>PRODUCT_FAMILY</th>\n",
       "      <th>CLIENT</th>\n",
       "      <th>VEHICLE_CODE</th>\n",
       "      <th>VOYAGE_CODE</th>\n",
       "      <th>QUANTITY</th>\n",
       "      <th>TIMESTAMP_IN</th>\n",
       "      <th>PACKAGE_DESCRIPTION</th>\n",
       "      <th>USER</th>\n",
       "    </tr>\n",
       "  </thead>\n",
       "  <tbody>\n",
       "    <tr>\n",
       "      <th>0</th>\n",
       "      <td>10</td>\n",
       "      <td>NODE_10</td>\n",
       "      <td>41.732747</td>\n",
       "      <td>14.535150</td>\n",
       "      <td>2020-01-02 00:00:00.000000</td>\n",
       "      <td>2020-01-02 01:00:00.000000</td>\n",
       "      <td>2020-01-01 23:54:14.886458</td>\n",
       "      <td>2020-01-02 00:50:07.410775</td>\n",
       "      <td>11</td>\n",
       "      <td>NODE_11</td>\n",
       "      <td>41.451329</td>\n",
       "      <td>14.704591</td>\n",
       "      <td>2020-01-02 06:19:51.705647</td>\n",
       "      <td>2020-01-02 07:19:51.705647</td>\n",
       "      <td>2020-01-02 06:25:32.872509</td>\n",
       "      <td>2020-01-02 07:35:49.488520</td>\n",
       "      <td>56</td>\n",
       "      <td>PRODUCT_FAMILY 1</td>\n",
       "      <td>CLIENT 1</td>\n",
       "      <td>TRUCK 1</td>\n",
       "      <td>0</td>\n",
       "      <td>9.710975</td>\n",
       "      <td>2019-12-23 18:07:25.591105</td>\n",
       "      <td>TEU CONTAINER</td>\n",
       "      <td>USER_3</td>\n",
       "    </tr>\n",
       "    <tr>\n",
       "      <th>0</th>\n",
       "      <td>15</td>\n",
       "      <td>NODE_15</td>\n",
       "      <td>41.936301</td>\n",
       "      <td>14.246993</td>\n",
       "      <td>2020-01-02 08:31:50.361561</td>\n",
       "      <td>2020-01-02 09:31:50.361561</td>\n",
       "      <td>2020-01-02 08:38:09.719742</td>\n",
       "      <td>2020-01-02 09:32:34.578899</td>\n",
       "      <td>14</td>\n",
       "      <td>NODE_14</td>\n",
       "      <td>41.764540</td>\n",
       "      <td>14.590790</td>\n",
       "      <td>2020-01-02 17:18:07.670422</td>\n",
       "      <td>2020-01-02 18:18:07.670422</td>\n",
       "      <td>2020-01-02 17:25:13.123462</td>\n",
       "      <td>2020-01-02 18:27:27.594391</td>\n",
       "      <td>2</td>\n",
       "      <td>PRODUCT_FAMILY 2</td>\n",
       "      <td>CLIENT 1</td>\n",
       "      <td>TRUCK 1</td>\n",
       "      <td>0</td>\n",
       "      <td>6.263532</td>\n",
       "      <td>2019-12-30 03:07:59.639989</td>\n",
       "      <td>FEU CONTAINER</td>\n",
       "      <td>USER_7</td>\n",
       "    </tr>\n",
       "    <tr>\n",
       "      <th>0</th>\n",
       "      <td>9</td>\n",
       "      <td>NODE_9</td>\n",
       "      <td>41.881105</td>\n",
       "      <td>14.481204</td>\n",
       "      <td>2020-01-02 19:43:04.967429</td>\n",
       "      <td>2020-01-02 20:43:04.967429</td>\n",
       "      <td>2020-01-02 19:25:41.967357</td>\n",
       "      <td>2020-01-02 20:37:01.073210</td>\n",
       "      <td>19</td>\n",
       "      <td>NODE_19</td>\n",
       "      <td>41.926659</td>\n",
       "      <td>14.618539</td>\n",
       "      <td>2020-01-03 01:56:37.333958</td>\n",
       "      <td>2020-01-03 02:56:37.333958</td>\n",
       "      <td>2020-01-03 01:52:38.084845</td>\n",
       "      <td>2020-01-03 02:58:17.938615</td>\n",
       "      <td>7</td>\n",
       "      <td>PRODUCT_FAMILY 1</td>\n",
       "      <td>CLIENT 2</td>\n",
       "      <td>TRUCK 1</td>\n",
       "      <td>0</td>\n",
       "      <td>9.994689</td>\n",
       "      <td>2019-12-17 02:06:05.492908</td>\n",
       "      <td>FEU CONTAINER</td>\n",
       "      <td>USER_1</td>\n",
       "    </tr>\n",
       "    <tr>\n",
       "      <th>0</th>\n",
       "      <td>18</td>\n",
       "      <td>NODE_18</td>\n",
       "      <td>41.687198</td>\n",
       "      <td>14.190457</td>\n",
       "      <td>2020-01-03 04:36:22.963395</td>\n",
       "      <td>2020-01-03 05:36:22.963395</td>\n",
       "      <td>2020-01-03 04:42:09.935135</td>\n",
       "      <td>2020-01-03 05:43:45.418110</td>\n",
       "      <td>17</td>\n",
       "      <td>NODE_17</td>\n",
       "      <td>41.904684</td>\n",
       "      <td>14.113763</td>\n",
       "      <td>2020-01-03 12:22:02.332947</td>\n",
       "      <td>2020-01-03 13:22:02.332947</td>\n",
       "      <td>2020-01-03 12:06:24.337926</td>\n",
       "      <td>2020-01-03 13:34:41.290396</td>\n",
       "      <td>97</td>\n",
       "      <td>PRODUCT_FAMILY 1</td>\n",
       "      <td>CLIENT 2</td>\n",
       "      <td>TRUCK 1</td>\n",
       "      <td>0</td>\n",
       "      <td>2.182114</td>\n",
       "      <td>2019-12-27 09:41:28.941988</td>\n",
       "      <td>TEU CONTAINER</td>\n",
       "      <td>USER_6</td>\n",
       "    </tr>\n",
       "    <tr>\n",
       "      <th>0</th>\n",
       "      <td>24</td>\n",
       "      <td>NODE_24</td>\n",
       "      <td>41.864799</td>\n",
       "      <td>14.760454</td>\n",
       "      <td>2020-01-03 14:12:46.171300</td>\n",
       "      <td>2020-01-03 15:12:46.171300</td>\n",
       "      <td>2020-01-03 14:15:31.880883</td>\n",
       "      <td>2020-01-03 15:34:03.119971</td>\n",
       "      <td>2</td>\n",
       "      <td>NODE_2</td>\n",
       "      <td>41.474641</td>\n",
       "      <td>14.355257</td>\n",
       "      <td>2020-01-04 15:47:50.655958</td>\n",
       "      <td>2020-01-04 16:47:50.655958</td>\n",
       "      <td>2020-01-04 16:02:19.047064</td>\n",
       "      <td>2020-01-04 16:23:58.662564</td>\n",
       "      <td>93</td>\n",
       "      <td>PRODUCT_FAMILY 2</td>\n",
       "      <td>CLIENT 2</td>\n",
       "      <td>TRUCK 1</td>\n",
       "      <td>0</td>\n",
       "      <td>5.737345</td>\n",
       "      <td>2019-12-30 08:52:26.220566</td>\n",
       "      <td>TEU CONTAINER</td>\n",
       "      <td>USER_6</td>\n",
       "    </tr>\n",
       "  </tbody>\n",
       "</table>"
      ],
      "text/plain": [
       "<IPython.core.display.HTML object>"
      ]
     },
     "metadata": {},
     "output_type": "display_data"
    }
   ],
   "source": [
    "#print nodes dataframe\n",
    "display(HTML(D_mov.head().to_html()))"
   ]
  },
  {
   "cell_type": "markdown",
   "metadata": {},
   "source": [
    "### Create folder hierarchy"
   ]
  },
  {
   "cell_type": "code",
   "execution_count": 5,
   "metadata": {},
   "outputs": [],
   "source": [
    "# %% create folder hierarchy\n",
    "pathResults = 'C:\\\\Users\\\\aletu\\\\desktop'\n",
    "root_path = os.path.join(pathResults,f\"{string_casestudy}_results\")\n",
    "prediction_results_path = os.path.join(root_path,f\"P9_predictions\")\n",
    "\n",
    "os.makedirs(root_path, exist_ok=True)\n",
    "os.makedirs(prediction_results_path, exist_ok=True)"
   ]
  },
  {
   "cell_type": "markdown",
   "metadata": {},
   "source": [
    "### Calculate ADI and CV2"
   ]
  },
  {
   "cell_type": "code",
   "execution_count": 6,
   "metadata": {},
   "outputs": [],
   "source": [
    "from analogistics.supply_chain.P1_family_problem.part_classification import calculateADICV2\n",
    "\n",
    "#set column parameters\n",
    "itemfield='ITEMCODE' #column name with itemcode \n",
    "qtyfield = 'QUANTITY' #column name with quantity\n",
    "dateVar = 'TIMESTAMP_IN'\n",
    "\n",
    "D_demandPatterns = calculateADICV2(D_mov, itemfield, qtyfield, dateVar)\n",
    "    "
   ]
  },
  {
   "cell_type": "code",
   "execution_count": 7,
   "metadata": {},
   "outputs": [
    {
     "data": {
      "text/html": [
       "<table border=\"1\" class=\"dataframe\">\n",
       "  <thead>\n",
       "    <tr style=\"text-align: right;\">\n",
       "      <th></th>\n",
       "      <th>ITEMCODE</th>\n",
       "      <th>ADI</th>\n",
       "      <th>CV2</th>\n",
       "    </tr>\n",
       "  </thead>\n",
       "  <tbody>\n",
       "    <tr>\n",
       "      <th>0</th>\n",
       "      <td>0</td>\n",
       "      <td>0.016617</td>\n",
       "      <td>0.238884</td>\n",
       "    </tr>\n",
       "  </tbody>\n",
       "</table>"
      ],
      "text/plain": [
       "<IPython.core.display.HTML object>"
      ]
     },
     "metadata": {},
     "output_type": "display_data"
    }
   ],
   "source": [
    "#print demand patterns dataframe\n",
    "display(HTML(D_demandPatterns.head().to_html()))"
   ]
  },
  {
   "cell_type": "markdown",
   "metadata": {},
   "source": [
    "### Plot demand patterns"
   ]
  },
  {
   "cell_type": "code",
   "execution_count": 8,
   "metadata": {},
   "outputs": [],
   "source": [
    "#set the relative importance of each part\n",
    "D_demandPatterns['frequency']=1"
   ]
  },
  {
   "cell_type": "code",
   "execution_count": 9,
   "metadata": {},
   "outputs": [
    {
     "data": {
      "text/plain": [
       "(<Figure size 432x288 with 1 Axes>,\n",
       " <Figure size 432x288 with 1 Axes>,\n",
       " 0,\n",
       " 1,\n",
       " 0,\n",
       " 0)"
      ]
     },
     "execution_count": 9,
     "metadata": {},
     "output_type": "execute_result"
    },
    {
     "data": {
      "image/png": "[encoded data removed]",
      "text/plain": [
       "<Figure size 432x288 with 1 Axes>"
      ]
     },
     "metadata": {
      "needs_background": "light"
     },
     "output_type": "display_data"
    },
    {
     "data": {
      "image/png": "[encoded data removed]",
      "text/plain": [
       "<Figure size 432x288 with 1 Axes>"
      ]
     },
     "metadata": {
      "needs_background": "light"
     },
     "output_type": "display_data"
    }
   ],
   "source": [
    "from analogistics.supply_chain.P1_family_problem.part_classification import demandPatternADICV2\n",
    "demandPatternADICV2(D_demandPatterns, string_casestudy, draw=True)"
   ]
  },
  {
   "cell_type": "code",
   "execution_count": null,
   "metadata": {},
   "outputs": [],
   "source": []
  }
 ],
 "metadata": {
  "kernelspec": {
   "display_name": "Python 3",
   "language": "python",
   "name": "python3"
  },
  "language_info": {
   "codemirror_mode": {
    "name": "ipython",
    "version": 3
   },
   "file_extension": ".py",
   "mimetype": "text/x-python",
   "name": "python",
   "nbconvert_exporter": "python",
   "pygments_lexer": "ipython3",
   "version": "3.6.13"
  }
 },
 "nbformat": 4,
 "nbformat_minor": 4
}
