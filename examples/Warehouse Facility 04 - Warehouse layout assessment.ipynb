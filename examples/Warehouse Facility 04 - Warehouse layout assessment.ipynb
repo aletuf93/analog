{
 "cells": [
  {
   "cell_type": "markdown",
   "metadata": {},
   "source": [
    "# Warehouse Facility 04 - Warehouse Layout assessment\n",
    "*This notebook illustrates how to assess the layout and the travelled distances of a storage system.\n",
    "***\n",
    "Alessandro Tufano, Ph.D. 2021"
   ]
  },
  {
   "cell_type": "markdown",
   "metadata": {},
   "source": [
    "### Import packages"
   ]
  },
  {
   "cell_type": "code",
   "execution_count": 1,
   "metadata": {},
   "outputs": [],
   "source": [
    "# %% append functions path\n",
    "import sys; sys.path.insert(0, '..') #add the above level with the package\n",
    "\n",
    "import os\n",
    "\n",
    "import pandas as pd\n",
    "import numpy as np\n",
    "\n",
    "from IPython.display import display, HTML #display dataframe\n"
   ]
  },
  {
   "cell_type": "markdown",
   "metadata": {},
   "source": [
    "### Set data fields"
   ]
  },
  {
   "cell_type": "code",
   "execution_count": 2,
   "metadata": {},
   "outputs": [],
   "source": [
    "string_casestudy = 'TOY_DATA'"
   ]
  },
  {
   "cell_type": "markdown",
   "metadata": {},
   "source": [
    "### Import data"
   ]
  },
  {
   "cell_type": "code",
   "execution_count": 3,
   "metadata": {},
   "outputs": [],
   "source": [
    "# %% import data\n",
    "from analogistics.data.data_generator_warehouse import generateWarehouseData\n",
    "D_locations, D_SKUs, D_movements, D_inventory = generateWarehouseData()\n"
   ]
  },
  {
   "cell_type": "code",
   "execution_count": 4,
   "metadata": {},
   "outputs": [
    {
     "data": {
      "text/html": [
       "<table border=\"1\" class=\"dataframe\">\n",
       "  <thead>\n",
       "    <tr style=\"text-align: right;\">\n",
       "      <th></th>\n",
       "      <th>NODECODE</th>\n",
       "      <th>IDWH</th>\n",
       "      <th>WHSUBAREA</th>\n",
       "      <th>IDLOCATION</th>\n",
       "      <th>LOCCODEX</th>\n",
       "      <th>LOCCODEY</th>\n",
       "      <th>LOCCODEZ</th>\n",
       "      <th>RACK</th>\n",
       "      <th>BAY</th>\n",
       "      <th>LEVEL</th>\n",
       "    </tr>\n",
       "  </thead>\n",
       "  <tbody>\n",
       "    <tr>\n",
       "      <th>0</th>\n",
       "      <td>1</td>\n",
       "      <td>LOGICAL_WH1</td>\n",
       "      <td>AREA 1</td>\n",
       "      <td>1</td>\n",
       "      <td>0</td>\n",
       "      <td>0</td>\n",
       "      <td>0</td>\n",
       "      <td>0</td>\n",
       "      <td>0</td>\n",
       "      <td>0</td>\n",
       "    </tr>\n",
       "    <tr>\n",
       "      <th>0</th>\n",
       "      <td>1</td>\n",
       "      <td>LOGICAL_WH2</td>\n",
       "      <td>AREA 1</td>\n",
       "      <td>2</td>\n",
       "      <td>0</td>\n",
       "      <td>0</td>\n",
       "      <td>1200</td>\n",
       "      <td>0</td>\n",
       "      <td>0</td>\n",
       "      <td>1</td>\n",
       "    </tr>\n",
       "    <tr>\n",
       "      <th>0</th>\n",
       "      <td>1</td>\n",
       "      <td>LOGICAL_WH2</td>\n",
       "      <td>AREA 1</td>\n",
       "      <td>3</td>\n",
       "      <td>0</td>\n",
       "      <td>0</td>\n",
       "      <td>2400</td>\n",
       "      <td>0</td>\n",
       "      <td>0</td>\n",
       "      <td>2</td>\n",
       "    </tr>\n",
       "    <tr>\n",
       "      <th>0</th>\n",
       "      <td>1</td>\n",
       "      <td>LOGICAL_WH1</td>\n",
       "      <td>AREA 1</td>\n",
       "      <td>4</td>\n",
       "      <td>0</td>\n",
       "      <td>0</td>\n",
       "      <td>3600</td>\n",
       "      <td>0</td>\n",
       "      <td>0</td>\n",
       "      <td>3</td>\n",
       "    </tr>\n",
       "    <tr>\n",
       "      <th>0</th>\n",
       "      <td>1</td>\n",
       "      <td>LOGICAL_WH1</td>\n",
       "      <td>AREA 1</td>\n",
       "      <td>5</td>\n",
       "      <td>0</td>\n",
       "      <td>0</td>\n",
       "      <td>4800</td>\n",
       "      <td>0</td>\n",
       "      <td>0</td>\n",
       "      <td>4</td>\n",
       "    </tr>\n",
       "  </tbody>\n",
       "</table>"
      ],
      "text/plain": [
       "<IPython.core.display.HTML object>"
      ]
     },
     "metadata": {},
     "output_type": "display_data"
    }
   ],
   "source": [
    "#print locations dataframe\n",
    "display(HTML(D_locations.head().to_html()))"
   ]
  },
  {
   "cell_type": "code",
   "execution_count": 5,
   "metadata": {},
   "outputs": [
    {
     "data": {
      "text/html": [
       "<table border=\"1\" class=\"dataframe\">\n",
       "  <thead>\n",
       "    <tr style=\"text-align: right;\">\n",
       "      <th></th>\n",
       "      <th>ITEMCODE</th>\n",
       "      <th>DESCRIPTION</th>\n",
       "      <th>VOLUME</th>\n",
       "      <th>WEIGHT</th>\n",
       "    </tr>\n",
       "  </thead>\n",
       "  <tbody>\n",
       "    <tr>\n",
       "      <th>0</th>\n",
       "      <td>0</td>\n",
       "      <td>PRODOTTO_0</td>\n",
       "      <td>39.511426</td>\n",
       "      <td>1.883621</td>\n",
       "    </tr>\n",
       "    <tr>\n",
       "      <th>0</th>\n",
       "      <td>1</td>\n",
       "      <td>PRODOTTO_1</td>\n",
       "      <td>96.708570</td>\n",
       "      <td>7.358464</td>\n",
       "    </tr>\n",
       "    <tr>\n",
       "      <th>0</th>\n",
       "      <td>2</td>\n",
       "      <td>PRODOTTO_2</td>\n",
       "      <td>43.870371</td>\n",
       "      <td>7.572892</td>\n",
       "    </tr>\n",
       "    <tr>\n",
       "      <th>0</th>\n",
       "      <td>3</td>\n",
       "      <td>PRODOTTO_3</td>\n",
       "      <td>83.147051</td>\n",
       "      <td>8.582423</td>\n",
       "    </tr>\n",
       "    <tr>\n",
       "      <th>0</th>\n",
       "      <td>4</td>\n",
       "      <td>PRODOTTO_4</td>\n",
       "      <td>65.096011</td>\n",
       "      <td>7.886607</td>\n",
       "    </tr>\n",
       "  </tbody>\n",
       "</table>"
      ],
      "text/plain": [
       "<IPython.core.display.HTML object>"
      ]
     },
     "metadata": {},
     "output_type": "display_data"
    }
   ],
   "source": [
    "#print SKUs master file dataframe\n",
    "display(HTML(D_SKUs.head().to_html()))"
   ]
  },
  {
   "cell_type": "code",
   "execution_count": 6,
   "metadata": {},
   "outputs": [
    {
     "data": {
      "text/html": [
       "<table border=\"1\" class=\"dataframe\">\n",
       "  <thead>\n",
       "    <tr style=\"text-align: right;\">\n",
       "      <th></th>\n",
       "      <th>ITEMCODE</th>\n",
       "      <th>NODECODE</th>\n",
       "      <th>IDWH</th>\n",
       "      <th>WHSUBAREA</th>\n",
       "      <th>IDLOCATION</th>\n",
       "      <th>RACK</th>\n",
       "      <th>BAY</th>\n",
       "      <th>LEVEL</th>\n",
       "      <th>LOCCODEX</th>\n",
       "      <th>LOCCODEY</th>\n",
       "      <th>LOCCODEZ</th>\n",
       "      <th>ORDERCODE</th>\n",
       "      <th>PICKINGLIST</th>\n",
       "      <th>QUANTITY</th>\n",
       "      <th>VOLUME</th>\n",
       "      <th>WEIGHT</th>\n",
       "      <th>TIMESTAMP_IN</th>\n",
       "      <th>INOUT</th>\n",
       "      <th>ORDERTYPE</th>\n",
       "    </tr>\n",
       "  </thead>\n",
       "  <tbody>\n",
       "    <tr>\n",
       "      <th>0</th>\n",
       "      <td>99</td>\n",
       "      <td>1</td>\n",
       "      <td>FAKE</td>\n",
       "      <td>AREA 1</td>\n",
       "      <td>1062</td>\n",
       "      <td>3</td>\n",
       "      <td>14</td>\n",
       "      <td>1</td>\n",
       "      <td>12000</td>\n",
       "      <td>11200</td>\n",
       "      <td>1200</td>\n",
       "      <td>91</td>\n",
       "      <td>91</td>\n",
       "      <td>7.102693</td>\n",
       "      <td>500.797029</td>\n",
       "      <td>21.824987</td>\n",
       "      <td>2020-01-02 02:30:20.369796</td>\n",
       "      <td>-</td>\n",
       "      <td>PICKING</td>\n",
       "    </tr>\n",
       "    <tr>\n",
       "      <th>0</th>\n",
       "      <td>78</td>\n",
       "      <td>1</td>\n",
       "      <td>LOGICAL_WH2</td>\n",
       "      <td>AREA 1</td>\n",
       "      <td>506</td>\n",
       "      <td>1</td>\n",
       "      <td>35</td>\n",
       "      <td>0</td>\n",
       "      <td>4000</td>\n",
       "      <td>28000</td>\n",
       "      <td>0</td>\n",
       "      <td>193</td>\n",
       "      <td>193</td>\n",
       "      <td>8.263011</td>\n",
       "      <td>464.930629</td>\n",
       "      <td>27.898999</td>\n",
       "      <td>2020-01-02 04:31:13.141918</td>\n",
       "      <td>+</td>\n",
       "      <td>PUTAWAY</td>\n",
       "    </tr>\n",
       "    <tr>\n",
       "      <th>0</th>\n",
       "      <td>35</td>\n",
       "      <td>1</td>\n",
       "      <td>LOGICAL_WH1</td>\n",
       "      <td>AREA 1</td>\n",
       "      <td>275</td>\n",
       "      <td>0</td>\n",
       "      <td>54</td>\n",
       "      <td>4</td>\n",
       "      <td>0</td>\n",
       "      <td>43200</td>\n",
       "      <td>4800</td>\n",
       "      <td>597</td>\n",
       "      <td>597</td>\n",
       "      <td>5.792619</td>\n",
       "      <td>360.323961</td>\n",
       "      <td>34.618508</td>\n",
       "      <td>2020-01-02 06:17:29.401686</td>\n",
       "      <td>+</td>\n",
       "      <td>PICKING</td>\n",
       "    </tr>\n",
       "    <tr>\n",
       "      <th>0</th>\n",
       "      <td>41</td>\n",
       "      <td>1</td>\n",
       "      <td>FAKE</td>\n",
       "      <td>AREA 1</td>\n",
       "      <td>298</td>\n",
       "      <td>0</td>\n",
       "      <td>59</td>\n",
       "      <td>2</td>\n",
       "      <td>0</td>\n",
       "      <td>47200</td>\n",
       "      <td>2400</td>\n",
       "      <td>198</td>\n",
       "      <td>198</td>\n",
       "      <td>7.458438</td>\n",
       "      <td>676.266680</td>\n",
       "      <td>18.561232</td>\n",
       "      <td>2020-01-02 07:22:38.639371</td>\n",
       "      <td>-</td>\n",
       "      <td>OTHER</td>\n",
       "    </tr>\n",
       "    <tr>\n",
       "      <th>0</th>\n",
       "      <td>37</td>\n",
       "      <td>1</td>\n",
       "      <td>LOGICAL_WH1</td>\n",
       "      <td>AREA 1</td>\n",
       "      <td>502</td>\n",
       "      <td>1</td>\n",
       "      <td>34</td>\n",
       "      <td>1</td>\n",
       "      <td>4000</td>\n",
       "      <td>27200</td>\n",
       "      <td>1200</td>\n",
       "      <td>257</td>\n",
       "      <td>257</td>\n",
       "      <td>1.944748</td>\n",
       "      <td>118.822108</td>\n",
       "      <td>3.799972</td>\n",
       "      <td>2020-01-02 08:41:58.440382</td>\n",
       "      <td>+</td>\n",
       "      <td>OTHER</td>\n",
       "    </tr>\n",
       "  </tbody>\n",
       "</table>"
      ],
      "text/plain": [
       "<IPython.core.display.HTML object>"
      ]
     },
     "metadata": {},
     "output_type": "display_data"
    }
   ],
   "source": [
    "#print SKUs master file dataframe\n",
    "display(HTML(D_movements.head().to_html()))"
   ]
  },
  {
   "cell_type": "code",
   "execution_count": 7,
   "metadata": {},
   "outputs": [
    {
     "data": {
      "text/html": [
       "<table border=\"1\" class=\"dataframe\">\n",
       "  <thead>\n",
       "    <tr style=\"text-align: right;\">\n",
       "      <th></th>\n",
       "      <th>NODECODE</th>\n",
       "      <th>IDWH</th>\n",
       "      <th>ITEMCODE</th>\n",
       "      <th>IDLOCATION</th>\n",
       "      <th>QUANTITY</th>\n",
       "      <th>TIMESTAMP</th>\n",
       "    </tr>\n",
       "  </thead>\n",
       "  <tbody>\n",
       "    <tr>\n",
       "      <th>0</th>\n",
       "      <td>1</td>\n",
       "      <td>LOGICAL_WH1</td>\n",
       "      <td>0</td>\n",
       "      <td>869</td>\n",
       "      <td>3.362125</td>\n",
       "      <td>2020-01-02</td>\n",
       "    </tr>\n",
       "    <tr>\n",
       "      <th>0</th>\n",
       "      <td>1</td>\n",
       "      <td>LOGICAL_WH2</td>\n",
       "      <td>1</td>\n",
       "      <td>129</td>\n",
       "      <td>114.439582</td>\n",
       "      <td>2020-01-02</td>\n",
       "    </tr>\n",
       "    <tr>\n",
       "      <th>0</th>\n",
       "      <td>1</td>\n",
       "      <td>FAKE</td>\n",
       "      <td>2</td>\n",
       "      <td>288</td>\n",
       "      <td>5.337214</td>\n",
       "      <td>2020-01-02</td>\n",
       "    </tr>\n",
       "    <tr>\n",
       "      <th>0</th>\n",
       "      <td>1</td>\n",
       "      <td>LOGICAL_WH1</td>\n",
       "      <td>3</td>\n",
       "      <td>432</td>\n",
       "      <td>23.191197</td>\n",
       "      <td>2020-01-02</td>\n",
       "    </tr>\n",
       "    <tr>\n",
       "      <th>0</th>\n",
       "      <td>1</td>\n",
       "      <td>FAKE</td>\n",
       "      <td>4</td>\n",
       "      <td>1618</td>\n",
       "      <td>50.624838</td>\n",
       "      <td>2020-01-02</td>\n",
       "    </tr>\n",
       "  </tbody>\n",
       "</table>"
      ],
      "text/plain": [
       "<IPython.core.display.HTML object>"
      ]
     },
     "metadata": {},
     "output_type": "display_data"
    }
   ],
   "source": [
    "#print SKUs master file dataframe\n",
    "display(HTML(D_inventory.head().to_html()))"
   ]
  },
  {
   "cell_type": "markdown",
   "metadata": {},
   "source": [
    "### Create folder hierarchy"
   ]
  },
  {
   "cell_type": "code",
   "execution_count": 8,
   "metadata": {},
   "outputs": [],
   "source": [
    "# %% create folder hierarchy\n",
    "pathResults = 'C:\\\\Users\\\\aletu\\\\desktop'\n",
    "root_path = os.path.join(pathResults,f\"{string_casestudy}_results\")\n",
    "path_results = os.path.join(root_path,f\"P8_warehouseAssessment\")\n",
    "\n",
    "os.makedirs(root_path, exist_ok=True)\n",
    "os.makedirs(path_results, exist_ok=True)"
   ]
  },
  {
   "cell_type": "markdown",
   "metadata": {},
   "source": [
    "### Preprocess data to define the warehouse graph"
   ]
  },
  {
   "cell_type": "code",
   "execution_count": 9,
   "metadata": {},
   "outputs": [
    {
     "name": "stdout",
     "output_type": "stream",
     "text": [
      "=======Input point unmapped. I is set to x:8000.0,y:-1\n",
      "=======Output point unmapped. O is set to x:8000.0,y:-1\n",
      "=====0 x coordinates have been randomly interpolated\n"
     ]
    },
    {
     "name": "stderr",
     "output_type": "stream",
     "text": [
      "C:\\Users\\aletu\\.conda\\envs\\analogistics3\\lib\\site-packages\\pandas\\core\\indexing.py:205: SettingWithCopyWarning: \n",
      "A value is trying to be set on a copy of a slice from a DataFrame\n",
      "\n",
      "See the caveats in the documentation: http://pandas.pydata.org/pandas-docs/stable/user_guide/indexing.html#returning-a-view-versus-a-copy\n",
      "  self._setitem_with_indexer(indexer, value)\n",
      "C:\\Users\\aletu\\.conda\\envs\\analogistics3\\lib\\site-packages\\pandas\\core\\generic.py:6287: SettingWithCopyWarning: \n",
      "A value is trying to be set on a copy of a slice from a DataFrame\n",
      "\n",
      "See the caveats in the documentation: http://pandas.pydata.org/pandas-docs/stable/user_guide/indexing.html#returning-a-view-versus-a-copy\n",
      "  self._update_inplace(new_data)\n",
      "C:\\Users\\aletu\\.conda\\envs\\analogistics3\\lib\\site-packages\\pandas\\core\\generic.py:7070: SettingWithCopyWarning: \n",
      "A value is trying to be set on a copy of a slice from a DataFrame\n",
      "\n",
      "See the caveats in the documentation: http://pandas.pydata.org/pandas-docs/stable/user_guide/indexing.html#returning-a-view-versus-a-copy\n",
      "  self._update_inplace(new_data)\n"
     ]
    },
    {
     "name": "stdout",
     "output_type": "stream",
     "text": [
      "=====0 y coordinates have been randomly interpolated\n"
     ]
    }
   ],
   "source": [
    "# %% LAYOUT ANALYSIS\n",
    "from analogistics.supply_chain.P6_placement_problem.warehouse_graph_definition import prepareCoordinates\n",
    "import numpy as np\n",
    "path_current = os.path.join(path_results,f\"Layout\")\n",
    "os.makedirs(path_current, exist_ok=True)\n",
    "\n",
    "\n",
    "D_layout, D_IO, D_fake,  allLocs = prepareCoordinates(D_locations)\n",
    "D_layout['aislecodex'] =np.nan \n",
    "\n",
    "\n",
    "# %% PREPARE DATA FOR GRAPH DEFINITION\n",
    "from analogistics.supply_chain.P6_placement_problem.warehouse_graph_definition import defineWHgraph\n",
    "G, D_res, D_layout = defineWHgraph(D_layout=D_layout, \n",
    "              D_IO=D_IO, \n",
    "              D_fake=D_fake,\n",
    "              allLocs = len(D_locations), \n",
    "              draw=False, \n",
    "              arcLabel=False, \n",
    "              nodeLabel=False, \n",
    "              trafficGraph=True)"
   ]
  },
  {
   "cell_type": "markdown",
   "metadata": {},
   "source": [
    "### Define tha warehouse graph $G(V,A)$"
   ]
  },
  {
   "cell_type": "code",
   "execution_count": 10,
   "metadata": {},
   "outputs": [
    {
     "data": {
      "image/png": "[encoded data removed]",
      "text/plain": [
       "<Figure size 432x288 with 1 Axes>"
      ]
     },
     "metadata": {},
     "output_type": "display_data"
    }
   ],
   "source": [
    "# %% DEFINE THE GRAPH\n",
    "from  analogistics.graph.graph import printGraph\n",
    "# print the graph\n",
    "distance=weight='length'\n",
    "title='Warehouse graph'\n",
    "printNodecoords=False\n",
    "\n",
    "fig1 = printGraph(G, \n",
    "           distance, \n",
    "           weight, \n",
    "           title, \n",
    "           arcLabel=False, \n",
    "           nodeLabel=False, \n",
    "           trafficGraph=False,\n",
    "           printNodecoords=True,\n",
    "           D_layout=D_layout)\n",
    "fig1.savefig(path_current+\"//layout_graph.png\") "
   ]
  },
  {
   "cell_type": "markdown",
   "metadata": {},
   "source": [
    "### Assess the traffic within the warehouse"
   ]
  },
  {
   "cell_type": "code",
   "execution_count": 11,
   "metadata": {},
   "outputs": [
    {
     "data": {
      "image/png": "[encoded data removed]",
      "text/plain": [
       "<Figure size 432x288 with 1 Axes>"
      ]
     },
     "metadata": {},
     "output_type": "display_data"
    }
   ],
   "source": [
    "# %% DEFINE TRAFFIC CHART\n",
    "fig2 = printGraph(G, \n",
    "           distance, \n",
    "           weight, \n",
    "           title, \n",
    "           arcLabel=False, \n",
    "           nodeLabel=False, \n",
    "           trafficGraph=True,\n",
    "           printNodecoords=False,\n",
    "           D_layout=D_layout)\n",
    "fig2.savefig(path_current+\"//traffic_graph.png\") "
   ]
  },
  {
   "cell_type": "markdown",
   "metadata": {},
   "source": [
    "### Exchange storage locations to reduce the travelled distances"
   ]
  },
  {
   "cell_type": "code",
   "execution_count": 12,
   "metadata": {},
   "outputs": [
    {
     "name": "stderr",
     "output_type": "stream",
     "text": [
      "C:\\Users\\aletu\\.conda\\envs\\analogistics3\\lib\\site-packages\\pandas\\core\\indexing.py:205: SettingWithCopyWarning: \n",
      "A value is trying to be set on a copy of a slice from a DataFrame\n",
      "\n",
      "See the caveats in the documentation: http://pandas.pydata.org/pandas-docs/stable/user_guide/indexing.html#returning-a-view-versus-a-copy\n",
      "  self._setitem_with_indexer(indexer, value)\n",
      "C:\\Users\\aletu\\.conda\\envs\\analogistics3\\lib\\site-packages\\pandas\\core\\frame.py:7138: FutureWarning: Sorting because non-concatenation axis is not aligned. A future version\n",
      "of pandas will change to not sort by default.\n",
      "\n",
      "To accept the future behavior, pass 'sort=False'.\n",
      "\n",
      "To retain the current behavior and silence the warning, pass 'sort=True'.\n",
      "\n",
      "  sort=sort,\n"
     ]
    },
    {
     "name": "stdout",
     "output_type": "stream",
     "text": [
      "=======================================================\n",
      "The expected saving is: 17.299999999999997%\n"
     ]
    },
    {
     "data": {
      "image/png": "[encoded data removed]",
      "text/plain": [
       "<Figure size 432x288 with 2 Axes>"
      ]
     },
     "metadata": {
      "needs_background": "light"
     },
     "output_type": "display_data"
    }
   ],
   "source": [
    "# Exchange te storage locations to place the higher popularities close to the I/O point\n",
    "from analogistics.supply_chain.P6_placement_problem.warehouse_graph_definition import calculateExchangeSaving\n",
    "D_results = calculateExchangeSaving(D_movements, D_res, G, useSameLevel=False)\n"
   ]
  },
  {
   "cell_type": "code",
   "execution_count": 13,
   "metadata": {},
   "outputs": [
    {
     "data": {
      "text/html": [
       "<table border=\"1\" class=\"dataframe\">\n",
       "  <thead>\n",
       "    <tr style=\"text-align: right;\">\n",
       "      <th></th>\n",
       "      <th>costASIS</th>\n",
       "      <th>costTOBE</th>\n",
       "      <th>distance</th>\n",
       "      <th>idNode</th>\n",
       "      <th>idlocationASIS</th>\n",
       "      <th>idlocationTOBE</th>\n",
       "      <th>loccodex</th>\n",
       "      <th>loccodey</th>\n",
       "      <th>new_distance</th>\n",
       "      <th>new_idNode</th>\n",
       "      <th>popularity</th>\n",
       "      <th>saving_rank</th>\n",
       "      <th>saving_exchange</th>\n",
       "      <th>loccodexTOBE</th>\n",
       "      <th>loccodeyTOBE</th>\n",
       "    </tr>\n",
       "  </thead>\n",
       "  <tbody>\n",
       "    <tr>\n",
       "      <th>0</th>\n",
       "      <td>632814</td>\n",
       "      <td>28014</td>\n",
       "      <td>90402</td>\n",
       "      <td>44</td>\n",
       "      <td>222.0</td>\n",
       "      <td>994.0</td>\n",
       "      <td>2000.0</td>\n",
       "      <td>35200.0</td>\n",
       "      <td>4002</td>\n",
       "      <td>66</td>\n",
       "      <td>7.0</td>\n",
       "      <td>0.955731</td>\n",
       "      <td>-0.000368108</td>\n",
       "      <td>10000.0</td>\n",
       "      <td>0</td>\n",
       "    </tr>\n",
       "    <tr>\n",
       "      <th>1</th>\n",
       "      <td>590412</td>\n",
       "      <td>24012</td>\n",
       "      <td>98402</td>\n",
       "      <td>125</td>\n",
       "      <td>956.0</td>\n",
       "      <td>993.0</td>\n",
       "      <td>10000.0</td>\n",
       "      <td>47200.0</td>\n",
       "      <td>4002</td>\n",
       "      <td>66</td>\n",
       "      <td>6.0</td>\n",
       "      <td>0.95933</td>\n",
       "      <td>-0.000369494</td>\n",
       "      <td>10000.0</td>\n",
       "      <td>0</td>\n",
       "    </tr>\n",
       "    <tr>\n",
       "      <th>2</th>\n",
       "      <td>297608</td>\n",
       "      <td>16008</td>\n",
       "      <td>74402</td>\n",
       "      <td>110</td>\n",
       "      <td>1212.0</td>\n",
       "      <td>662.0</td>\n",
       "      <td>10000.0</td>\n",
       "      <td>35200.0</td>\n",
       "      <td>4002</td>\n",
       "      <td>66</td>\n",
       "      <td>4.0</td>\n",
       "      <td>0.946211</td>\n",
       "      <td>-0.000364441</td>\n",
       "      <td>10000.0</td>\n",
       "      <td>0</td>\n",
       "    </tr>\n",
       "    <tr>\n",
       "      <th>3</th>\n",
       "      <td>124808</td>\n",
       "      <td>22408</td>\n",
       "      <td>31202</td>\n",
       "      <td>83</td>\n",
       "      <td>748.0</td>\n",
       "      <td>996.0</td>\n",
       "      <td>10000.0</td>\n",
       "      <td>13600.0</td>\n",
       "      <td>5602</td>\n",
       "      <td>67</td>\n",
       "      <td>4.0</td>\n",
       "      <td>0.82046</td>\n",
       "      <td>-0.000316007</td>\n",
       "      <td>10000.0</td>\n",
       "      <td>800</td>\n",
       "    </tr>\n",
       "    <tr>\n",
       "      <th>4</th>\n",
       "      <td>444808</td>\n",
       "      <td>22408</td>\n",
       "      <td>111202</td>\n",
       "      <td>57</td>\n",
       "      <td>619.0</td>\n",
       "      <td>1000.0</td>\n",
       "      <td>2000.0</td>\n",
       "      <td>45600.0</td>\n",
       "      <td>5602</td>\n",
       "      <td>67</td>\n",
       "      <td>4.0</td>\n",
       "      <td>0.949623</td>\n",
       "      <td>-0.000365756</td>\n",
       "      <td>10000.0</td>\n",
       "      <td>800</td>\n",
       "    </tr>\n",
       "  </tbody>\n",
       "</table>"
      ],
      "text/plain": [
       "<IPython.core.display.HTML object>"
      ]
     },
     "metadata": {},
     "output_type": "display_data"
    }
   ],
   "source": [
    "#print and save the locations exchange table\n",
    "display(HTML(D_results.head().to_html()))\n",
    "D_results.to_excel(path_current+\"\\\\exchange saving table.xlsx\")"
   ]
  },
  {
   "cell_type": "code",
   "execution_count": 14,
   "metadata": {},
   "outputs": [
    {
     "data": {
      "image/png": "[encoded data removed]",
      "text/plain": [
       "<Figure size 432x288 with 1 Axes>"
      ]
     },
     "metadata": {
      "needs_background": "light"
     },
     "output_type": "display_data"
    },
    {
     "data": {
      "image/png": "[encoded data removed]",
      "text/plain": [
       "<Figure size 432x288 with 1 Axes>"
      ]
     },
     "metadata": {
      "needs_background": "light"
     },
     "output_type": "display_data"
    }
   ],
   "source": [
    "# Compare the as-is scenario, and the exchanged one using a 2-d space productivity plot\n",
    "from analogistics.supply_chain.P6_placement_problem.warehouse_graph_definition import returnbubbleGraphAsIsToBe\n",
    "output_figures = returnbubbleGraphAsIsToBe(D_results)\n",
    "for key in output_figures.keys():\n",
    "        output_figures[key].savefig(path_current+f\"\\\\{key}.png\") "
   ]
  },
  {
   "cell_type": "code",
   "execution_count": 15,
   "metadata": {},
   "outputs": [
    {
     "data": {
      "image/png": "[encoded data removed]",
      "text/plain": [
       "<Figure size 432x288 with 1 Axes>"
      ]
     },
     "metadata": {
      "needs_background": "light"
     },
     "output_type": "display_data"
    },
    {
     "data": {
      "image/png": "[encoded data removed]",
      "text/plain": [
       "<Figure size 432x288 with 1 Axes>"
      ]
     },
     "metadata": {
      "needs_background": "light"
     },
     "output_type": "display_data"
    }
   ],
   "source": [
    "# Compare the as-is scenario, and the exchanged one using a popularity - distance chart\n",
    "from analogistics.supply_chain.P6_placement_problem.warehouse_graph_definition import asisTobeBubblePopDist\n",
    "output_figures = asisTobeBubblePopDist(D_results)\n",
    "for key in output_figures.keys():\n",
    "        output_figures[key].savefig(path_current+f\"\\\\{key}.png\") "
   ]
  },
  {
   "cell_type": "code",
   "execution_count": null,
   "metadata": {},
   "outputs": [],
   "source": []
  }
 ],
 "metadata": {
  "kernelspec": {
   "display_name": "Python 3",
   "language": "python",
   "name": "python3"
  },
  "language_info": {
   "codemirror_mode": {
    "name": "ipython",
    "version": 3
   },
   "file_extension": ".py",
   "mimetype": "text/x-python",
   "name": "python",
   "nbconvert_exporter": "python",
   "pygments_lexer": "ipython3",
   "version": "3.6.13"
  }
 },
 "nbformat": 4,
 "nbformat_minor": 4
}
