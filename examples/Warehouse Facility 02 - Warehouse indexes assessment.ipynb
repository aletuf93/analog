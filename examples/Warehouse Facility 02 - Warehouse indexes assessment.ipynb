{
 "cells": [
  {
   "cell_type": "markdown",
   "metadata": {},
   "source": [
    "# Warehouse Facility 02 - Warehouse Indexes assessment\n",
    "*This notebook illustrates how to assess the product portfolio of a storage system by analysing the indexes.  \n",
    "*Use the virtual environment logproj.yml to run this notebook.*\n",
    "***\n",
    "Alessandro Tufano, Ph.D. 2021"
   ]
  },
  {
   "cell_type": "markdown",
   "metadata": {},
   "source": [
    "### Import packages"
   ]
  },
  {
   "cell_type": "code",
   "execution_count": 1,
   "metadata": {},
   "outputs": [],
   "source": [
    "# %% append functions path\n",
    "import sys; sys.path.insert(0, '..') #add the above level with the package\n",
    "\n",
    "import os\n",
    "import pandas as pd\n",
    "import numpy as np\n",
    "\n",
    "from IPython.display import display, HTML #display dataframe\n"
   ]
  },
  {
   "cell_type": "markdown",
   "metadata": {},
   "source": [
    "### Set data fields"
   ]
  },
  {
   "cell_type": "code",
   "execution_count": 2,
   "metadata": {},
   "outputs": [],
   "source": [
    "string_casestudy = 'TOY_DATA'"
   ]
  },
  {
   "cell_type": "markdown",
   "metadata": {},
   "source": [
    "### Import data"
   ]
  },
  {
   "cell_type": "code",
   "execution_count": 3,
   "metadata": {},
   "outputs": [],
   "source": [
    "# %% import data\n",
    "from analogistics.data.data_generator_warehouse import generateWarehouseData\n",
    "D_locations, D_SKUs, D_movements, D_inventory = generateWarehouseData()\n"
   ]
  },
  {
   "cell_type": "code",
   "execution_count": 4,
   "metadata": {},
   "outputs": [
    {
     "data": {
      "text/html": [
       "<table border=\"1\" class=\"dataframe\">\n",
       "  <thead>\n",
       "    <tr style=\"text-align: right;\">\n",
       "      <th></th>\n",
       "      <th>NODECODE</th>\n",
       "      <th>IDWH</th>\n",
       "      <th>WHSUBAREA</th>\n",
       "      <th>IDLOCATION</th>\n",
       "      <th>LOCCODEX</th>\n",
       "      <th>LOCCODEY</th>\n",
       "      <th>LOCCODEZ</th>\n",
       "      <th>RACK</th>\n",
       "      <th>BAY</th>\n",
       "      <th>LEVEL</th>\n",
       "    </tr>\n",
       "  </thead>\n",
       "  <tbody>\n",
       "    <tr>\n",
       "      <th>0</th>\n",
       "      <td>1</td>\n",
       "      <td>LOGICAL_WH1</td>\n",
       "      <td>AREA 1</td>\n",
       "      <td>1</td>\n",
       "      <td>0</td>\n",
       "      <td>0</td>\n",
       "      <td>0</td>\n",
       "      <td>0</td>\n",
       "      <td>0</td>\n",
       "      <td>0</td>\n",
       "    </tr>\n",
       "    <tr>\n",
       "      <th>0</th>\n",
       "      <td>1</td>\n",
       "      <td>FAKE</td>\n",
       "      <td>AREA 1</td>\n",
       "      <td>2</td>\n",
       "      <td>0</td>\n",
       "      <td>0</td>\n",
       "      <td>1200</td>\n",
       "      <td>0</td>\n",
       "      <td>0</td>\n",
       "      <td>1</td>\n",
       "    </tr>\n",
       "    <tr>\n",
       "      <th>0</th>\n",
       "      <td>1</td>\n",
       "      <td>FAKE</td>\n",
       "      <td>AREA 1</td>\n",
       "      <td>3</td>\n",
       "      <td>0</td>\n",
       "      <td>0</td>\n",
       "      <td>2400</td>\n",
       "      <td>0</td>\n",
       "      <td>0</td>\n",
       "      <td>2</td>\n",
       "    </tr>\n",
       "    <tr>\n",
       "      <th>0</th>\n",
       "      <td>1</td>\n",
       "      <td>LOGICAL_WH2</td>\n",
       "      <td>AREA 1</td>\n",
       "      <td>4</td>\n",
       "      <td>0</td>\n",
       "      <td>0</td>\n",
       "      <td>3600</td>\n",
       "      <td>0</td>\n",
       "      <td>0</td>\n",
       "      <td>3</td>\n",
       "    </tr>\n",
       "    <tr>\n",
       "      <th>0</th>\n",
       "      <td>1</td>\n",
       "      <td>LOGICAL_WH2</td>\n",
       "      <td>AREA 1</td>\n",
       "      <td>5</td>\n",
       "      <td>0</td>\n",
       "      <td>0</td>\n",
       "      <td>4800</td>\n",
       "      <td>0</td>\n",
       "      <td>0</td>\n",
       "      <td>4</td>\n",
       "    </tr>\n",
       "  </tbody>\n",
       "</table>"
      ],
      "text/plain": [
       "<IPython.core.display.HTML object>"
      ]
     },
     "metadata": {},
     "output_type": "display_data"
    }
   ],
   "source": [
    "#print locations dataframe\n",
    "display(HTML(D_locations.head().to_html()))"
   ]
  },
  {
   "cell_type": "code",
   "execution_count": 5,
   "metadata": {},
   "outputs": [
    {
     "data": {
      "text/html": [
       "<table border=\"1\" class=\"dataframe\">\n",
       "  <thead>\n",
       "    <tr style=\"text-align: right;\">\n",
       "      <th></th>\n",
       "      <th>ITEMCODE</th>\n",
       "      <th>DESCRIPTION</th>\n",
       "      <th>VOLUME</th>\n",
       "      <th>WEIGHT</th>\n",
       "    </tr>\n",
       "  </thead>\n",
       "  <tbody>\n",
       "    <tr>\n",
       "      <th>0</th>\n",
       "      <td>0</td>\n",
       "      <td>PRODOTTO_0</td>\n",
       "      <td>77.505045</td>\n",
       "      <td>8.119494</td>\n",
       "    </tr>\n",
       "    <tr>\n",
       "      <th>0</th>\n",
       "      <td>1</td>\n",
       "      <td>PRODOTTO_1</td>\n",
       "      <td>39.646959</td>\n",
       "      <td>8.416488</td>\n",
       "    </tr>\n",
       "    <tr>\n",
       "      <th>0</th>\n",
       "      <td>2</td>\n",
       "      <td>PRODOTTO_2</td>\n",
       "      <td>66.096091</td>\n",
       "      <td>8.272023</td>\n",
       "    </tr>\n",
       "    <tr>\n",
       "      <th>0</th>\n",
       "      <td>3</td>\n",
       "      <td>PRODOTTO_3</td>\n",
       "      <td>16.283474</td>\n",
       "      <td>1.978878</td>\n",
       "    </tr>\n",
       "    <tr>\n",
       "      <th>0</th>\n",
       "      <td>4</td>\n",
       "      <td>PRODOTTO_4</td>\n",
       "      <td>30.122580</td>\n",
       "      <td>3.975660</td>\n",
       "    </tr>\n",
       "  </tbody>\n",
       "</table>"
      ],
      "text/plain": [
       "<IPython.core.display.HTML object>"
      ]
     },
     "metadata": {},
     "output_type": "display_data"
    }
   ],
   "source": [
    "#print SKUs master file dataframe\n",
    "display(HTML(D_SKUs.head().to_html()))"
   ]
  },
  {
   "cell_type": "code",
   "execution_count": 6,
   "metadata": {},
   "outputs": [
    {
     "data": {
      "text/html": [
       "<table border=\"1\" class=\"dataframe\">\n",
       "  <thead>\n",
       "    <tr style=\"text-align: right;\">\n",
       "      <th></th>\n",
       "      <th>ITEMCODE</th>\n",
       "      <th>NODECODE</th>\n",
       "      <th>IDWH</th>\n",
       "      <th>WHSUBAREA</th>\n",
       "      <th>IDLOCATION</th>\n",
       "      <th>RACK</th>\n",
       "      <th>BAY</th>\n",
       "      <th>LEVEL</th>\n",
       "      <th>LOCCODEX</th>\n",
       "      <th>LOCCODEY</th>\n",
       "      <th>LOCCODEZ</th>\n",
       "      <th>ORDERCODE</th>\n",
       "      <th>PICKINGLIST</th>\n",
       "      <th>QUANTITY</th>\n",
       "      <th>VOLUME</th>\n",
       "      <th>WEIGHT</th>\n",
       "      <th>TIMESTAMP_IN</th>\n",
       "      <th>INOUT</th>\n",
       "      <th>ORDERTYPE</th>\n",
       "    </tr>\n",
       "  </thead>\n",
       "  <tbody>\n",
       "    <tr>\n",
       "      <th>0</th>\n",
       "      <td>42</td>\n",
       "      <td>1</td>\n",
       "      <td>LOGICAL_WH2</td>\n",
       "      <td>AREA 1</td>\n",
       "      <td>1218</td>\n",
       "      <td>3</td>\n",
       "      <td>45</td>\n",
       "      <td>2</td>\n",
       "      <td>12000</td>\n",
       "      <td>36000</td>\n",
       "      <td>2400</td>\n",
       "      <td>661</td>\n",
       "      <td>661</td>\n",
       "      <td>4.628740</td>\n",
       "      <td>25.025721</td>\n",
       "      <td>1.699636</td>\n",
       "      <td>2020-01-02 00:16:54.867654</td>\n",
       "      <td>+</td>\n",
       "      <td>OTHER</td>\n",
       "    </tr>\n",
       "    <tr>\n",
       "      <th>0</th>\n",
       "      <td>88</td>\n",
       "      <td>1</td>\n",
       "      <td>FAKE</td>\n",
       "      <td>AREA 1</td>\n",
       "      <td>1634</td>\n",
       "      <td>4</td>\n",
       "      <td>62</td>\n",
       "      <td>3</td>\n",
       "      <td>16000</td>\n",
       "      <td>49600</td>\n",
       "      <td>3600</td>\n",
       "      <td>741</td>\n",
       "      <td>741</td>\n",
       "      <td>7.857420</td>\n",
       "      <td>80.795010</td>\n",
       "      <td>10.196586</td>\n",
       "      <td>2020-01-02 02:05:21.223321</td>\n",
       "      <td>-</td>\n",
       "      <td>OTHER</td>\n",
       "    </tr>\n",
       "    <tr>\n",
       "      <th>0</th>\n",
       "      <td>93</td>\n",
       "      <td>1</td>\n",
       "      <td>LOGICAL_WH2</td>\n",
       "      <td>AREA 1</td>\n",
       "      <td>150</td>\n",
       "      <td>0</td>\n",
       "      <td>29</td>\n",
       "      <td>4</td>\n",
       "      <td>0</td>\n",
       "      <td>23200</td>\n",
       "      <td>4800</td>\n",
       "      <td>170</td>\n",
       "      <td>170</td>\n",
       "      <td>14.328301</td>\n",
       "      <td>1097.339992</td>\n",
       "      <td>39.484017</td>\n",
       "      <td>2020-01-02 03:43:10.270363</td>\n",
       "      <td>+</td>\n",
       "      <td>PUTAWAY</td>\n",
       "    </tr>\n",
       "    <tr>\n",
       "      <th>0</th>\n",
       "      <td>28</td>\n",
       "      <td>1</td>\n",
       "      <td>FAKE</td>\n",
       "      <td>AREA 1</td>\n",
       "      <td>559</td>\n",
       "      <td>1</td>\n",
       "      <td>45</td>\n",
       "      <td>3</td>\n",
       "      <td>4000</td>\n",
       "      <td>36000</td>\n",
       "      <td>3600</td>\n",
       "      <td>324</td>\n",
       "      <td>324</td>\n",
       "      <td>2.399257</td>\n",
       "      <td>217.249345</td>\n",
       "      <td>9.705650</td>\n",
       "      <td>2020-01-02 03:47:11.809791</td>\n",
       "      <td>+</td>\n",
       "      <td>OTHER</td>\n",
       "    </tr>\n",
       "    <tr>\n",
       "      <th>0</th>\n",
       "      <td>48</td>\n",
       "      <td>1</td>\n",
       "      <td>FAKE</td>\n",
       "      <td>AREA 1</td>\n",
       "      <td>277</td>\n",
       "      <td>0</td>\n",
       "      <td>55</td>\n",
       "      <td>1</td>\n",
       "      <td>0</td>\n",
       "      <td>44000</td>\n",
       "      <td>1200</td>\n",
       "      <td>602</td>\n",
       "      <td>602</td>\n",
       "      <td>15.667309</td>\n",
       "      <td>113.504392</td>\n",
       "      <td>145.879437</td>\n",
       "      <td>2020-01-02 05:52:28.661846</td>\n",
       "      <td>-</td>\n",
       "      <td>OTHER</td>\n",
       "    </tr>\n",
       "  </tbody>\n",
       "</table>"
      ],
      "text/plain": [
       "<IPython.core.display.HTML object>"
      ]
     },
     "metadata": {},
     "output_type": "display_data"
    }
   ],
   "source": [
    "#print SKUs master file dataframe\n",
    "display(HTML(D_movements.head().to_html()))"
   ]
  },
  {
   "cell_type": "code",
   "execution_count": 7,
   "metadata": {},
   "outputs": [
    {
     "data": {
      "text/html": [
       "<table border=\"1\" class=\"dataframe\">\n",
       "  <thead>\n",
       "    <tr style=\"text-align: right;\">\n",
       "      <th></th>\n",
       "      <th>NODECODE</th>\n",
       "      <th>IDWH</th>\n",
       "      <th>ITEMCODE</th>\n",
       "      <th>IDLOCATION</th>\n",
       "      <th>QUANTITY</th>\n",
       "      <th>TIMESTAMP</th>\n",
       "    </tr>\n",
       "  </thead>\n",
       "  <tbody>\n",
       "    <tr>\n",
       "      <th>0</th>\n",
       "      <td>1</td>\n",
       "      <td>LOGICAL_WH1</td>\n",
       "      <td>0</td>\n",
       "      <td>1384</td>\n",
       "      <td>12.660104</td>\n",
       "      <td>2020-01-02</td>\n",
       "    </tr>\n",
       "    <tr>\n",
       "      <th>0</th>\n",
       "      <td>1</td>\n",
       "      <td>FAKE</td>\n",
       "      <td>1</td>\n",
       "      <td>1078</td>\n",
       "      <td>5.527609</td>\n",
       "      <td>2020-01-02</td>\n",
       "    </tr>\n",
       "    <tr>\n",
       "      <th>0</th>\n",
       "      <td>1</td>\n",
       "      <td>LOGICAL_WH1</td>\n",
       "      <td>2</td>\n",
       "      <td>235</td>\n",
       "      <td>2.088260</td>\n",
       "      <td>2020-01-02</td>\n",
       "    </tr>\n",
       "    <tr>\n",
       "      <th>0</th>\n",
       "      <td>1</td>\n",
       "      <td>FAKE</td>\n",
       "      <td>3</td>\n",
       "      <td>1238</td>\n",
       "      <td>1.226784</td>\n",
       "      <td>2020-01-02</td>\n",
       "    </tr>\n",
       "    <tr>\n",
       "      <th>0</th>\n",
       "      <td>1</td>\n",
       "      <td>LOGICAL_WH2</td>\n",
       "      <td>4</td>\n",
       "      <td>1533</td>\n",
       "      <td>8.471855</td>\n",
       "      <td>2020-01-02</td>\n",
       "    </tr>\n",
       "  </tbody>\n",
       "</table>"
      ],
      "text/plain": [
       "<IPython.core.display.HTML object>"
      ]
     },
     "metadata": {},
     "output_type": "display_data"
    }
   ],
   "source": [
    "#print SKUs master file dataframe\n",
    "display(HTML(D_inventory.head().to_html()))"
   ]
  },
  {
   "cell_type": "markdown",
   "metadata": {},
   "source": [
    "### Create folder hierarchy"
   ]
  },
  {
   "cell_type": "code",
   "execution_count": 8,
   "metadata": {},
   "outputs": [],
   "source": [
    "# %% create folder hierarchy\n",
    "pathResults = 'C:\\\\Users\\\\aletu\\\\desktop'\n",
    "root_path = os.path.join(pathResults,f\"{string_casestudy}_results\")\n",
    "path_results = os.path.join(root_path,f\"P8_warehouseAssessment\")\n",
    "\n",
    "os.makedirs(root_path, exist_ok=True)\n",
    "os.makedirs(path_results, exist_ok=True)"
   ]
  },
  {
   "cell_type": "markdown",
   "metadata": {},
   "source": [
    "### Set columns name"
   ]
  },
  {
   "cell_type": "code",
   "execution_count": 9,
   "metadata": {},
   "outputs": [],
   "source": [
    "# %% SET COLUMNS MOVEMENTS\n",
    "timecolumn_mov='TIMESTAMP_IN'\n",
    "itemcodeColumns_mov='ITEMCODE'\n",
    "inout_column_mov = 'INOUT'\n",
    "x_col_mov = 'LOCCODEX'\n",
    "y_col_mov = 'LOCCODEY'\n",
    "z_col_mov = 'LOCCODEZ'"
   ]
  },
  {
   "cell_type": "code",
   "execution_count": 10,
   "metadata": {},
   "outputs": [],
   "source": [
    "# %% SET COLUMNS SKUS\n",
    "itemcodeColumns_sku='ITEMCODE'"
   ]
  },
  {
   "cell_type": "code",
   "execution_count": 11,
   "metadata": {},
   "outputs": [],
   "source": [
    "# %% SET COLUMNS INVENTORY\n",
    "itemcodeColumns_inv = 'ITEMCODE'"
   ]
  },
  {
   "cell_type": "markdown",
   "metadata": {},
   "source": [
    "### Generate the inventory curve for each SKU"
   ]
  },
  {
   "cell_type": "code",
   "execution_count": 12,
   "metadata": {},
   "outputs": [
    {
     "name": "stderr",
     "output_type": "stream",
     "text": [
      "..\\analogistics\\supply_chain\\information_framework.py:105: SettingWithCopyWarning: \n",
      "A value is trying to be set on a copy of a slice from a DataFrame.\n",
      "Try using .loc[row_indexer,col_indexer] = value instead\n",
      "\n",
      "See the caveats in the documentation: http://pandas.pydata.org/pandas-docs/stable/user_guide/indexing.html#returning-a-view-versus-a-copy\n",
      "  D_movements['MOVEMENT'] = D_movements['INOUT'].astype(str) + D_movements[quantityColums].astype(str)\n",
      "..\\analogistics\\supply_chain\\information_framework.py:106: SettingWithCopyWarning: \n",
      "A value is trying to be set on a copy of a slice from a DataFrame.\n",
      "Try using .loc[row_indexer,col_indexer] = value instead\n",
      "\n",
      "See the caveats in the documentation: http://pandas.pydata.org/pandas-docs/stable/user_guide/indexing.html#returning-a-view-versus-a-copy\n",
      "  D_movements['MOVEMENT'] = D_movements['MOVEMENT'].astype(float)\n",
      "..\\analogistics\\supply_chain\\information_framework.py:109: SettingWithCopyWarning: \n",
      "A value is trying to be set on a copy of a slice from a DataFrame.\n",
      "Try using .loc[row_indexer,col_indexer] = value instead\n",
      "\n",
      "See the caveats in the documentation: http://pandas.pydata.org/pandas-docs/stable/user_guide/indexing.html#returning-a-view-versus-a-copy\n",
      "  D_movements['PERIOD'] = ts.sampleTimeSeries(D_movements['TIMESTAMP_IN'], 'day')\n",
      "..\\analogistics\\supply_chain\\information_framework.py:135: SettingWithCopyWarning: \n",
      "A value is trying to be set on a copy of a slice from a DataFrame.\n",
      "Try using .loc[row_indexer,col_indexer] = value instead\n",
      "\n",
      "See the caveats in the documentation: http://pandas.pydata.org/pandas-docs/stable/user_guide/indexing.html#returning-a-view-versus-a-copy\n",
      "  D_inventory['PERIOD'] = ts.sampleTimeSeries(D_inventory['TIMESTAMP'], 'day')\n"
     ]
    }
   ],
   "source": [
    "# generate the inventory curve for each SKU\n",
    "from analogistics.supply_chain.information_framework import updatePartInventory\n",
    "D_SKUs= updatePartInventory(D_SKUs,D_movements,D_inventory,timecolumn_mov,itemcodeColumns_sku,itemcodeColumns_mov,itemcodeColumns_inv) \n"
   ]
  },
  {
   "cell_type": "code",
   "execution_count": 13,
   "metadata": {
    "scrolled": true
   },
   "outputs": [
    {
     "data": {
      "text/html": [
       "<table border=\"1\" class=\"dataframe\">\n",
       "  <thead>\n",
       "    <tr style=\"text-align: right;\">\n",
       "      <th></th>\n",
       "      <th>ITEMCODE</th>\n",
       "      <th>DESCRIPTION</th>\n",
       "      <th>VOLUME</th>\n",
       "      <th>WEIGHT</th>\n",
       "      <th>INVENTORY_QTY</th>\n",
       "      <th>INVENTORY_DAYS</th>\n",
       "    </tr>\n",
       "  </thead>\n",
       "  <tbody>\n",
       "    <tr>\n",
       "      <th>0</th>\n",
       "      <td>0</td>\n",
       "      <td>PRODOTTO_0</td>\n",
       "      <td>77.505045</td>\n",
       "      <td>8.119494</td>\n",
       "      <td>[12.66010410414165, 12.66010410414165, 12.66010410414165, 12.66010410414165, 12.66010410414165, 20.51333006672933, 20.51333006672933, 19.96197799701187, 19.96197799701187, 19.96197799701187, 19.96197799701187, 19.96197799701187, 19.96197799701187, 19.96197799701187, 19.96197799701187, 19.96197799701187, 19.96197799701187, 19.96197799701187, 19.96197799701187, 19.96197799701187, 19.96197799701187, 19.96197799701187, 19.96197799701187, 23.924456193556765, 23.924456193556765, 23.924456193556765, 23.924456193556765, 23.924456193556765, 23.924456193556765, 16.31661271586671, 16.31661271586671, 16.31661271586671, 16.31661271586671, 16.31661271586671, 16.31661271586671, 16.31661271586671, 16.31661271586671, 16.31661271586671, 16.31661271586671, 36.048436000041924]</td>\n",
       "      <td>[2020-002, 2020-003, 2020-004, 2020-005, 2020-006, 2020-007, 2020-008, 2020-009, 2020-010, 2020-011, 2020-012, 2020-013, 2020-014, 2020-015, 2020-016, 2020-017, 2020-018, 2020-019, 2020-020, 2020-021, 2020-022, 2020-023, 2020-024, 2020-025, 2020-026, 2020-027, 2020-028, 2020-029, 2020-030, 2020-031, 2020-032, 2020-033, 2020-034, 2020-035, 2020-036, 2020-037, 2020-038, 2020-039, 2020-040, 2020-041]</td>\n",
       "    </tr>\n",
       "    <tr>\n",
       "      <th>1</th>\n",
       "      <td>1</td>\n",
       "      <td>PRODOTTO_1</td>\n",
       "      <td>39.646959</td>\n",
       "      <td>8.416488</td>\n",
       "      <td>[5.527609180870894, 5.527609180870894, 5.527609180870894, 58.90429169778147, 58.90429169778147, 58.90429169778147, 58.90429169778147, 58.90429169778147, 58.90429169778147, 58.90429169778147, 58.90429169778147, 58.90429169778147, 53.15571270158353, 53.15571270158353, 53.15571270158353, 53.15571270158353, 53.15571270158353, 53.15571270158353, 53.15571270158353, 61.31880441488809, 61.31880441488809, 61.31880441488809, 61.31880441488809, 45.04124286432676, 45.04124286432676, 45.04124286432676, 45.04124286432676, 45.04124286432676, 45.04124286432676, 45.04124286432676, 45.04124286432676, 45.04124286432676, 45.04124286432676, 45.04124286432676, 45.04124286432676, 45.04124286432676, 45.04124286432676, 45.04124286432676, 45.04124286432676, 45.04124286432676]</td>\n",
       "      <td>[2020-002, 2020-003, 2020-004, 2020-005, 2020-006, 2020-007, 2020-008, 2020-009, 2020-010, 2020-011, 2020-012, 2020-013, 2020-014, 2020-015, 2020-016, 2020-017, 2020-018, 2020-019, 2020-020, 2020-021, 2020-022, 2020-023, 2020-024, 2020-025, 2020-026, 2020-027, 2020-028, 2020-029, 2020-030, 2020-031, 2020-032, 2020-033, 2020-034, 2020-035, 2020-036, 2020-037, 2020-038, 2020-039, 2020-040, 2020-041]</td>\n",
       "    </tr>\n",
       "    <tr>\n",
       "      <th>2</th>\n",
       "      <td>2</td>\n",
       "      <td>PRODOTTO_2</td>\n",
       "      <td>66.096091</td>\n",
       "      <td>8.272023</td>\n",
       "      <td>[2.0882599822143675, 2.0882599822143675, 2.0882599822143675, 2.0882599822143675, 2.0882599822143675, 2.0882599822143675, 2.0882599822143675, 2.0882599822143675, 2.0882599822143675, 2.0882599822143675, 2.0882599822143675, 2.0882599822143675, 2.0882599822143675, 2.0882599822143675, 2.0882599822143675, 2.0882599822143675, 2.0882599822143675, 2.0882599822143675, 2.0882599822143675, 34.42090704423117, 34.42090704423117, 34.42090704423117, 44.31963132796941, 44.31963132796941, 45.37085804950797, 45.37085804950797, 45.37085804950797, 45.37085804950797, 45.37085804950797, 45.37085804950797, 45.37085804950797, 45.37085804950797, 45.37085804950797, 45.37085804950797, 45.37085804950797, 45.37085804950797, 45.37085804950797, 45.37085804950797, 48.5889305404625, 48.5889305404625]</td>\n",
       "      <td>[2020-002, 2020-003, 2020-004, 2020-005, 2020-006, 2020-007, 2020-008, 2020-009, 2020-010, 2020-011, 2020-012, 2020-013, 2020-014, 2020-015, 2020-016, 2020-017, 2020-018, 2020-019, 2020-020, 2020-021, 2020-022, 2020-023, 2020-024, 2020-025, 2020-026, 2020-027, 2020-028, 2020-029, 2020-030, 2020-031, 2020-032, 2020-033, 2020-034, 2020-035, 2020-036, 2020-037, 2020-038, 2020-039, 2020-040, 2020-041]</td>\n",
       "    </tr>\n",
       "    <tr>\n",
       "      <th>3</th>\n",
       "      <td>3</td>\n",
       "      <td>PRODOTTO_3</td>\n",
       "      <td>16.283474</td>\n",
       "      <td>1.978878</td>\n",
       "      <td>[1.2267836122015, 1.2267836122015, 1.2267836122015, 21.354985837661268, 21.354985837661268, 21.354985837661268, 21.354985837661268, 21.354985837661268, 21.354985837661268, 21.354985837661268, 1.2267836122015, 1.2267836122015, 2.747532989663481, 2.747532989663481, 8.89431615251061, 8.89431615251061, 8.89431615251061, 8.89431615251061, 8.89431615251061, 11.777192008665994, 11.777192008665994, 11.777192008665994, 11.777192008665994, 29.057584293559138, 29.057584293559138, 44.26609715361877, 44.26609715361877, 44.26609715361877, 44.26609715361877, 19.642657625913802, 19.642657625913802, 19.642657625913802, 19.642657625913802, 19.642657625913802, 19.642657625913802, 19.642657625913802, 19.642657625913802, 19.642657625913802, 17.091241694230465, 17.091241694230465]</td>\n",
       "      <td>[2020-002, 2020-003, 2020-004, 2020-005, 2020-006, 2020-007, 2020-008, 2020-009, 2020-010, 2020-011, 2020-012, 2020-013, 2020-014, 2020-015, 2020-016, 2020-017, 2020-018, 2020-019, 2020-020, 2020-021, 2020-022, 2020-023, 2020-024, 2020-025, 2020-026, 2020-027, 2020-028, 2020-029, 2020-030, 2020-031, 2020-032, 2020-033, 2020-034, 2020-035, 2020-036, 2020-037, 2020-038, 2020-039, 2020-040, 2020-041]</td>\n",
       "    </tr>\n",
       "    <tr>\n",
       "      <th>4</th>\n",
       "      <td>4</td>\n",
       "      <td>PRODOTTO_4</td>\n",
       "      <td>30.122580</td>\n",
       "      <td>3.975660</td>\n",
       "      <td>[49.35265635928202, 23.31432697836339, 23.31432697836339, 3.3000115525064544, 3.3000115525064544, 0.0, 0.0, 0.0, 0.0, 0.0, 10.154380127973212, 10.154380127973212, 10.154380127973212, 10.154380127973212, 19.673746835298616, 19.673746835298616, 19.673746835298616, 19.673746835298616, 19.673746835298616, 19.673746835298616, 19.673746835298616, 18.395505965650756, 18.395505965650756, 18.395505965650756, 25.312987733053006, 25.312987733053006, 25.312987733053006, 25.312987733053006, 25.312987733053006, 25.312987733053006, 25.312987733053006, 25.312987733053006, 60.48689738350944, 60.48689738350944, 62.2294888623, 62.2294888623, 62.2294888623, 62.2294888623, 62.2294888623, 62.2294888623]</td>\n",
       "      <td>[2020-002, 2020-003, 2020-004, 2020-005, 2020-006, 2020-007, 2020-008, 2020-009, 2020-010, 2020-011, 2020-012, 2020-013, 2020-014, 2020-015, 2020-016, 2020-017, 2020-018, 2020-019, 2020-020, 2020-021, 2020-022, 2020-023, 2020-024, 2020-025, 2020-026, 2020-027, 2020-028, 2020-029, 2020-030, 2020-031, 2020-032, 2020-033, 2020-034, 2020-035, 2020-036, 2020-037, 2020-038, 2020-039, 2020-040, 2020-041]</td>\n",
       "    </tr>\n",
       "  </tbody>\n",
       "</table>"
      ],
      "text/plain": [
       "<IPython.core.display.HTML object>"
      ]
     },
     "metadata": {},
     "output_type": "display_data"
    }
   ],
   "source": [
    "#print SKUs master file dataframe with inventory curve\n",
    "display(HTML(D_SKUs.head().to_html()))"
   ]
  },
  {
   "cell_type": "markdown",
   "metadata": {},
   "source": [
    "### Calculate the popularity index"
   ]
  },
  {
   "cell_type": "code",
   "execution_count": 15,
   "metadata": {
    "scrolled": true
   },
   "outputs": [
    {
     "data": {
      "image/png": "[encoded data removed]",
      "text/plain": [
       "<Figure size 432x288 with 1 Axes>"
      ]
     },
     "metadata": {
      "needs_background": "light"
     },
     "output_type": "display_data"
    },
    {
     "data": {
      "image/png": "[encoded data removed]",
      "text/plain": [
       "<Figure size 432x288 with 1 Axes>"
      ]
     },
     "metadata": {
      "needs_background": "light"
     },
     "output_type": "display_data"
    },
    {
     "data": {
      "image/png": "[encoded data removed]",
      "text/plain": [
       "<Figure size 432x288 with 1 Axes>"
      ]
     },
     "metadata": {
      "needs_background": "light"
     },
     "output_type": "display_data"
    },
    {
     "data": {
      "image/png": "[encoded data removed]",
      "text/plain": [
       "<Figure size 432x288 with 1 Axes>"
      ]
     },
     "metadata": {
      "needs_background": "light"
     },
     "output_type": "display_data"
    }
   ],
   "source": [
    "# %% POPULARITY INDEX\n",
    "\n",
    "path_current = os.path.join(path_results,f\"SKUs indices\")\n",
    "os.makedirs(path_current, exist_ok=True)\n",
    "\n",
    "from analogistics.supply_chain.P8_performance_assessment.wh_indexes import updatePopularity, whIndexParetoPlot\n",
    "\n",
    "\n",
    "D_SKUs = updatePopularity(D_SKUs)\n",
    "\n",
    "#POPULARITY IN\n",
    "output_figures = whIndexParetoPlot(D_SKUs,'POP_IN')\n",
    "\n",
    "for key in output_figures.keys():\n",
    "        output_figures[key].savefig(path_current+f\"\\\\{key}.png\")  \n",
    "        \n",
    "#POPULARITY OUT\n",
    "output_figures = whIndexParetoPlot(D_SKUs,'POP_OUT')\n",
    "\n",
    "for key in output_figures.keys():\n",
    "        output_figures[key].savefig(path_current+f\"\\\\{key}.png\")  "
   ]
  },
  {
   "cell_type": "markdown",
   "metadata": {},
   "source": [
    "### Calculate the order completion (OC) index"
   ]
  },
  {
   "cell_type": "code",
   "execution_count": 16,
   "metadata": {},
   "outputs": [
    {
     "name": "stderr",
     "output_type": "stream",
     "text": [
      "C:\\Users\\aletu\\.conda\\envs\\analogistics3\\lib\\site-packages\\pandas\\core\\ops\\__init__.py:1115: FutureWarning: elementwise comparison failed; returning scalar instead, but in the future will perform elementwise comparison\n",
      "  result = method(y)\n"
     ]
    },
    {
     "data": {
      "image/png": "[encoded data removed]",
      "text/plain": [
       "<Figure size 432x288 with 1 Axes>"
      ]
     },
     "metadata": {
      "needs_background": "light"
     },
     "output_type": "display_data"
    },
    {
     "data": {
      "image/png": "[encoded data removed]",
      "text/plain": [
       "<Figure size 432x288 with 1 Axes>"
      ]
     },
     "metadata": {
      "needs_background": "light"
     },
     "output_type": "display_data"
    }
   ],
   "source": [
    "# %% ORDER COMPLETION INDEX\n",
    "from analogistics.supply_chain.P8_performance_assessment.wh_indexes import updateOrderCompletion\n",
    "D_SKUs = updateOrderCompletion(D_SKUs, D_movements)\n",
    "\n",
    "#OC\n",
    "output_figures = whIndexParetoPlot(D_SKUs,'OC')\n",
    "\n",
    "for key in output_figures.keys():\n",
    "        output_figures[key].savefig(path_current+f\"\\\\{key}.png\") \n"
   ]
  },
  {
   "cell_type": "markdown",
   "metadata": {},
   "source": [
    "### Calculate the Cube-per-order index (COI)"
   ]
  },
  {
   "cell_type": "code",
   "execution_count": 17,
   "metadata": {
    "scrolled": false
   },
   "outputs": [
    {
     "data": {
      "image/png": "[encoded data removed]",
      "text/plain": [
       "<Figure size 432x288 with 1 Axes>"
      ]
     },
     "metadata": {
      "needs_background": "light"
     },
     "output_type": "display_data"
    },
    {
     "data": {
      "image/png": "[encoded data removed]",
      "text/plain": [
       "<Figure size 432x288 with 1 Axes>"
      ]
     },
     "metadata": {
      "needs_background": "light"
     },
     "output_type": "display_data"
    },
    {
     "data": {
      "image/png": "[encoded data removed]",
      "text/plain": [
       "<Figure size 432x288 with 1 Axes>"
      ]
     },
     "metadata": {
      "needs_background": "light"
     },
     "output_type": "display_data"
    },
    {
     "data": {
      "image/png": "[encoded data removed]",
      "text/plain": [
       "<Figure size 432x288 with 1 Axes>"
      ]
     },
     "metadata": {
      "needs_background": "light"
     },
     "output_type": "display_data"
    }
   ],
   "source": [
    "# %% COI INDEX\n",
    "from analogistics.supply_chain.P8_performance_assessment.wh_indexes import updateCOI\n",
    "D_SKUs = updateCOI(D_SKUs)\n",
    "\n",
    "#COI IN\n",
    "output_figures = whIndexParetoPlot(D_SKUs,'COI_IN')\n",
    "\n",
    "for key in output_figures.keys():\n",
    "        output_figures[key].savefig(path_current+f\"\\\\{key}.png\") \n",
    "        \n",
    "#COI OUT\n",
    "output_figures = whIndexParetoPlot(D_SKUs,'COI_OUT')\n",
    "\n",
    "for key in output_figures.keys():\n",
    "        output_figures[key].savefig(path_current+f\"\\\\{key}.png\") \n",
    "\n"
   ]
  },
  {
   "cell_type": "markdown",
   "metadata": {},
   "source": [
    "### Calculate the TURN index"
   ]
  },
  {
   "cell_type": "code",
   "execution_count": 18,
   "metadata": {},
   "outputs": [
    {
     "data": {
      "image/png": "[encoded data removed]",
      "text/plain": [
       "<Figure size 432x288 with 1 Axes>"
      ]
     },
     "metadata": {
      "needs_background": "light"
     },
     "output_type": "display_data"
    },
    {
     "data": {
      "image/png": "[encoded data removed]",
      "text/plain": [
       "<Figure size 432x288 with 1 Axes>"
      ]
     },
     "metadata": {
      "needs_background": "light"
     },
     "output_type": "display_data"
    }
   ],
   "source": [
    "# %% TURN INDEX\n",
    "from analogistics.supply_chain.P8_performance_assessment.wh_indexes import updateTURN\n",
    "D_SKUs = updateTURN(D_SKUs)\n",
    "\n",
    "#COI IN\n",
    "output_figures = whIndexParetoPlot(D_SKUs,'TURN')\n",
    "\n",
    "for key in output_figures.keys():\n",
    "        output_figures[key].savefig(path_current+f\"\\\\{key}.png\") "
   ]
  },
  {
   "cell_type": "markdown",
   "metadata": {},
   "source": [
    "### Calculate the interarrival time"
   ]
  },
  {
   "cell_type": "code",
   "execution_count": 21,
   "metadata": {},
   "outputs": [],
   "source": [
    "# %% INTERARRIVAL TIME\n",
    "from analogistics.supply_chain.information_framework import updateInterarrivalTime\n",
    "D_SKUs = updateInterarrivalTime(D_SKUs)\n",
    "\n",
    "\n"
   ]
  },
  {
   "cell_type": "markdown",
   "metadata": {},
   "source": [
    "### Calculate the Fourier transform of the inventory curve"
   ]
  },
  {
   "cell_type": "code",
   "execution_count": 23,
   "metadata": {},
   "outputs": [
    {
     "name": "stderr",
     "output_type": "stream",
     "text": [
      "..\\analogistics\\statistics\\time_series.py:517: RuntimeWarning: divide by zero encountered in true_divide\n",
      "  weeks = 1 / xf\n"
     ]
    }
   ],
   "source": [
    "# %% INTERARRIVAL TIME\n",
    "from analogistics.supply_chain.P8_performance_assessment.wh_indexes import updateFourieranalysis\n",
    "D_SKUs = updateFourieranalysis(D_SKUs)"
   ]
  },
  {
   "cell_type": "markdown",
   "metadata": {},
   "source": [
    "### Save the SKU table with parameters"
   ]
  },
  {
   "cell_type": "code",
   "execution_count": 24,
   "metadata": {},
   "outputs": [],
   "source": [
    "# %% save sku table\n",
    "D_SKUs.to_excel(path_current+\"\\\\SKUs.xlsx\")"
   ]
  },
  {
   "cell_type": "code",
   "execution_count": null,
   "metadata": {},
   "outputs": [],
   "source": []
  }
 ],
 "metadata": {
  "kernelspec": {
   "display_name": "Python 3",
   "language": "python",
   "name": "python3"
  },
  "language_info": {
   "codemirror_mode": {
    "name": "ipython",
    "version": 3
   },
   "file_extension": ".py",
   "mimetype": "text/x-python",
   "name": "python",
   "nbconvert_exporter": "python",
   "pygments_lexer": "ipython3",
   "version": "3.6.13"
  }
 },
 "nbformat": 4,
 "nbformat_minor": 4
}
